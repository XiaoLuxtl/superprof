{
 "cells": [
  {
   "cell_type": "code",
   "execution_count": null,
   "id": "f853d0a4",
   "metadata": {},
   "outputs": [],
   "source": []
  },
  {
   "cell_type": "code",
   "execution_count": 9,
   "id": "260781be",
   "metadata": {},
   "outputs": [],
   "source": [
    "import requests\n",
    "import time\n",
    "import pandas as pd\n",
    "import json\n",
    "from bs4 import BeautifulSoup\n",
    "import shutil"
   ]
  },
  {
   "cell_type": "code",
   "execution_count": 10,
   "id": "bc97413c",
   "metadata": {},
   "outputs": [],
   "source": [
    "master_list = []"
   ]
  },
  {
   "cell_type": "code",
   "execution_count": null,
   "id": "455e1613",
   "metadata": {},
   "outputs": [],
   "source": [
    "def get_photo(url, pid):\n",
    "    r = requests.get(url, stream=True)\n",
    "    if r.status_code == 200:\n",
    "        with open(fr'./imgs/{pid}.jpg', 'wb') as f:\n",
    "            for chunk in r:\n",
    "                f.write(chunk)"
   ]
  },
  {
   "cell_type": "code",
   "execution_count": 12,
   "id": "c1fda8dd",
   "metadata": {},
   "outputs": [],
   "source": [
    "def get_response(page):\n",
    "    cookies = {\n",
    "        'idutm': '13352',\n",
    "        'aff': '630',\n",
    "        'v_aff': 'E',\n",
    "        'G_ENABLED_IDPS': 'google',\n",
    "        'sp_connu': '21027312%238f7392aecc8cde7f409aef76b4884cec',\n",
    "        '__stripe_mid': '6e91cbeb-26ad-4ad2-9e8d-8ea430eb1d79c81c8c',\n",
    "        'PHPSESSID': '689245kq8hbg00firlklkha9pu',\n",
    "    }\n",
    "\n",
    "    headers = {\n",
    "        'Accept': '*/*',\n",
    "        'Accept-Language': 'es-419,es;q=0.9,en;q=0.8',\n",
    "        'Connection': 'keep-alive',\n",
    "        # Requests sorts cookies= alphabetically\n",
    "        # 'Cookie': 'idutm=13352; aff=630; v_aff=E; G_ENABLED_IDPS=google; sp_connu=21027312%238f7392aecc8cde7f409aef76b4884cec; __stripe_mid=6e91cbeb-26ad-4ad2-9e8d-8ea430eb1d79c81c8c; PHPSESSID=689245kq8hbg00firlklkha9pu',\n",
    "        'Referer': 'https://www.superprof.mx/s/todas-materias,M%C3%A9xico,,,1.html?s=4',\n",
    "        'Sec-Fetch-Dest': 'empty',\n",
    "        'Sec-Fetch-Mode': 'cors',\n",
    "        'Sec-Fetch-Site': 'same-origin',\n",
    "        'Sec-GPC': '1',\n",
    "        'User-Agent': 'Mozilla/5.0 (Windows NT 10.0; Win64; x64) AppleWebKit/537.36 (KHTML, like Gecko) Chrome/102.0.5005.115 Safari/537.36',\n",
    "        'X-Requested-With': 'XMLHttpRequest',\n",
    "    }\n",
    "\n",
    "    params = {\n",
    "        'type': '4',\n",
    "        'adress': 'México',\n",
    "        'matiere': 'Todas Materias',\n",
    "        'place[]': [\n",
    "            'at_my_place',\n",
    "            'i_move',\n",
    "        ],\n",
    "        'distance': '50',\n",
    "        'webcam_from': 'in_pays',\n",
    "        'order_by': 'pertinence_DESC',\n",
    "        'price': 'all',\n",
    "        'first_lesson': 'all',\n",
    "        'response_time': 'all',\n",
    "        'is_mobile': '2',\n",
    "        'pmin': '1',\n",
    "        'pmax': '4401',\n",
    "        'isV': '1',\n",
    "        'url': 'https://www.superprof.mx/s/todas-materias,M%C3%A9xico,,,1.html?s=4',\n",
    "        'page': f'{page}',\n",
    "    }\n",
    "\n",
    "    # response = requests.get('https://www.superprof.mx/a/search/', params=params, cookies=cookies, headers=headers)\n",
    "    response = requests.get('https://www.superprof.mx/a/search/', params=params, headers=headers)\n",
    "    return response.text"
   ]
  },
  {
   "cell_type": "code",
   "execution_count": null,
   "id": "fb27eeff",
   "metadata": {},
   "outputs": [],
   "source": []
  },
  {
   "cell_type": "code",
   "execution_count": null,
   "id": "d0600cab",
   "metadata": {},
   "outputs": [],
   "source": [
    "# pages -> 55029\n",
    "# \"nbPagesTotal\": 33019\n",
    "\n",
    "for i in range (1, 33019):\n",
    "    \n",
    "    data_json = json.loads(get_response(i))\n",
    "    # print(json.dumps(data_json, indent=4))\n",
    "    results = data_json['mainResults']\n",
    "\n",
    "    for data in results:\n",
    "        teacher = {}\n",
    "\n",
    "        teacher['id'] = data['id_annonce']\n",
    "        teacher['teacherName'] = data['teacherName']\n",
    "        teacher['price'] = data['price']\n",
    "        teacher['_type'] = data['type']\n",
    "\n",
    "        try:\n",
    "            teacher['teacherPhoto'] = get_photo(data['teacherPhoto'], teacher['id'])\n",
    "        except:\n",
    "            teacher['teacherPhoto'] = None\n",
    "\n",
    "        try:\n",
    "            teacher['teacherRating_average'] = data['teacherRating']['average']\n",
    "        except:\n",
    "            teacher['teacherRating_average'] = None\n",
    "\n",
    "        try:\n",
    "            teacher['teacherRating_count'] = data['teacherRating']['count']\n",
    "        except:\n",
    "            teacher['teacherRating_count'] = None\n",
    "\n",
    "        teacher['url'] = data['url']\n",
    "        teacher['url_mer'] = data['url_mer']\n",
    "        teacher['title'] = data['title']\n",
    "        teacher['teacherCity'] = data['teacherCity']\n",
    "        teacher['distance'] = data['distance']\n",
    "        teacher['firstHourFree'] = data['firstHourFree']\n",
    "        teacher['firstFreeDuration'] = data['firstFreeDuration']\n",
    "        teacher['is_feminin'] = data['is_feminin']\n",
    "        teacher['id_membre_statut'] = data['id_membre_statut']\n",
    "        try:\n",
    "            teacher['badge'] = data['badge']\n",
    "        except:\n",
    "            teacher['badge'] = None\n",
    "        teacher['senior'] = data['senior']\n",
    "        teacher['verified'] = data['verified']\n",
    "        teacher['faceToFace'] = data['faceToFace']\n",
    "        teacher['webcam'] = data['webcam']\n",
    "        teacher['responseTime'] = data['responseTime']\n",
    "        teacher['responseTimeDesc'] = data['responseTimeDesc']\n",
    "        teacher['key_admin'] = data['key_admin']\n",
    "\n",
    "#         print(teacher)\n",
    "        master_list.append(teacher)\n",
    "#         id_annonce, teacherName, price, _type, teacherPhoto, teacherRating, teacherRating_average, teacherRating_count, teacherRating_label, url, url_mer, title, teacherCity, distance, firstHourFree, firstFreeDuration, is_feminin, id_membre_statut, badge, senior, verified, faceToFace, webcam, responseTime, responseTimeDesc, key_admin,\n",
    "    "
   ]
  },
  {
   "cell_type": "code",
   "execution_count": null,
   "id": "70195d8b",
   "metadata": {},
   "outputs": [],
   "source": [
    "df = pd.DataFrame(master_list)"
   ]
  },
  {
   "cell_type": "code",
   "execution_count": null,
   "id": "17845206",
   "metadata": {},
   "outputs": [],
   "source": [
    "df.to_csv('./data/superprof.csv', index=False)"
   ]
  },
  {
   "cell_type": "code",
   "execution_count": null,
   "id": "503572e5",
   "metadata": {},
   "outputs": [],
   "source": []
  }
 ],
 "metadata": {
  "kernelspec": {
   "display_name": "venv",
   "language": "python",
   "name": "venv"
  },
  "language_info": {
   "codemirror_mode": {
    "name": "ipython",
    "version": 3
   },
   "file_extension": ".py",
   "mimetype": "text/x-python",
   "name": "python",
   "nbconvert_exporter": "python",
   "pygments_lexer": "ipython3",
   "version": "3.10.4"
  }
 },
 "nbformat": 4,
 "nbformat_minor": 5
}
